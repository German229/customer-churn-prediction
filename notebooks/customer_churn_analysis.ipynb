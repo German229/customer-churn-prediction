{
 "cells": [
  {
   "metadata": {},
   "cell_type": "markdown",
   "source": [
    "<h3>Импорт библиотек</h3>\n",
    "<p>\n",
    "Импортируются все необходимые библиотеки для анализа данных, построения моделей, масштабирования признаков и вычисления метрик качества.\n",
    "Также подключаются современные методы машинного обучения (Random Forest, XGBoost, CatBoost) и инструмент для перебора гиперпараметров <code>GridSearchCV</code>.\n",
    "</p>\n",
    "<hr>"
   ],
   "id": "2f9f43979703d508"
  },
  {
   "metadata": {
    "ExecuteTime": {
     "end_time": "2025-07-17T10:41:05.903422Z",
     "start_time": "2025-07-17T10:41:05.901212Z"
    }
   },
   "cell_type": "code",
   "source": [
    "from sklearn.model_selection import train_test_split\n",
    "import pandas as pd\n",
    "from sklearn.preprocessing import MinMaxScaler\n",
    "from sklearn.linear_model import LogisticRegression\n",
    "from sklearn.metrics import (\n",
    "    accuracy_score, precision_score, recall_score,\n",
    "    f1_score, roc_auc_score, confusion_matrix, classification_report\n",
    ")\n",
    "from sklearn.ensemble import RandomForestClassifier\n",
    "from xgboost import XGBClassifier\n",
    "from catboost import CatBoostClassifier\n",
    "from sklearn.model_selection import GridSearchCV"
   ],
   "id": "initial_id",
   "outputs": [],
   "execution_count": 11
  },
  {
   "metadata": {},
   "cell_type": "markdown",
   "source": [
    "<h3>Загрузка данных</h3>\n",
    "<p>\n",
    "Здесь осуществляется загрузка датасета по оттоку клиентов — <b>Telco Customer Churn</b>.<br>\n",
    "Этот датасет можно скачать на Kaggle по ссылке:<br>\n",
    "<a href=\"https://www.kaggle.com/datasets/blastchar/telco-customer-churn\" target=\"_blank\">\n",
    "https://www.kaggle.com/datasets/blastchar/telco-customer-churn\n",
    "</a>\n",
    "</p>\n",
    "<hr>"
   ],
   "id": "107c6358edccd984"
  },
  {
   "metadata": {
    "ExecuteTime": {
     "end_time": "2025-07-17T10:41:05.929416Z",
     "start_time": "2025-07-17T10:41:05.915559Z"
    }
   },
   "cell_type": "code",
   "source": "customers_churn_df = pd.read_csv(\"../files/WA_Fn-UseC_-Telco-Customer-Churn.csv\", sep=',')",
   "id": "1d949973b0c2746",
   "outputs": [],
   "execution_count": 12
  },
  {
   "metadata": {},
   "cell_type": "markdown",
   "source": [
    "<h3>Первичный просмотр данных</h3>\n",
    "<p>\n",
    "Отображение первых пяти строк датасета для быстрого знакомства с его структурой и содержимым.\n",
    "</p>\n",
    "<hr>"
   ],
   "id": "a850c9727d63b305"
  },
  {
   "metadata": {
    "ExecuteTime": {
     "end_time": "2025-07-17T10:41:05.945574Z",
     "start_time": "2025-07-17T10:41:05.938672Z"
    }
   },
   "cell_type": "code",
   "source": "customers_churn_df.head(5)",
   "id": "cb539938b911a51f",
   "outputs": [
    {
     "data": {
      "text/plain": [
       "   customerID  gender  SeniorCitizen Partner Dependents  tenure PhoneService  \\\n",
       "0  7590-VHVEG  Female              0     Yes         No       1           No   \n",
       "1  5575-GNVDE    Male              0      No         No      34          Yes   \n",
       "2  3668-QPYBK    Male              0      No         No       2          Yes   \n",
       "3  7795-CFOCW    Male              0      No         No      45           No   \n",
       "4  9237-HQITU  Female              0      No         No       2          Yes   \n",
       "\n",
       "      MultipleLines InternetService OnlineSecurity  ... DeviceProtection  \\\n",
       "0  No phone service             DSL             No  ...               No   \n",
       "1                No             DSL            Yes  ...              Yes   \n",
       "2                No             DSL            Yes  ...               No   \n",
       "3  No phone service             DSL            Yes  ...              Yes   \n",
       "4                No     Fiber optic             No  ...               No   \n",
       "\n",
       "  TechSupport StreamingTV StreamingMovies        Contract PaperlessBilling  \\\n",
       "0          No          No              No  Month-to-month              Yes   \n",
       "1          No          No              No        One year               No   \n",
       "2          No          No              No  Month-to-month              Yes   \n",
       "3         Yes          No              No        One year               No   \n",
       "4          No          No              No  Month-to-month              Yes   \n",
       "\n",
       "               PaymentMethod MonthlyCharges  TotalCharges Churn  \n",
       "0           Electronic check          29.85         29.85    No  \n",
       "1               Mailed check          56.95        1889.5    No  \n",
       "2               Mailed check          53.85        108.15   Yes  \n",
       "3  Bank transfer (automatic)          42.30       1840.75    No  \n",
       "4           Electronic check          70.70        151.65   Yes  \n",
       "\n",
       "[5 rows x 21 columns]"
      ],
      "text/html": [
       "<div>\n",
       "<style scoped>\n",
       "    .dataframe tbody tr th:only-of-type {\n",
       "        vertical-align: middle;\n",
       "    }\n",
       "\n",
       "    .dataframe tbody tr th {\n",
       "        vertical-align: top;\n",
       "    }\n",
       "\n",
       "    .dataframe thead th {\n",
       "        text-align: right;\n",
       "    }\n",
       "</style>\n",
       "<table border=\"1\" class=\"dataframe\">\n",
       "  <thead>\n",
       "    <tr style=\"text-align: right;\">\n",
       "      <th></th>\n",
       "      <th>customerID</th>\n",
       "      <th>gender</th>\n",
       "      <th>SeniorCitizen</th>\n",
       "      <th>Partner</th>\n",
       "      <th>Dependents</th>\n",
       "      <th>tenure</th>\n",
       "      <th>PhoneService</th>\n",
       "      <th>MultipleLines</th>\n",
       "      <th>InternetService</th>\n",
       "      <th>OnlineSecurity</th>\n",
       "      <th>...</th>\n",
       "      <th>DeviceProtection</th>\n",
       "      <th>TechSupport</th>\n",
       "      <th>StreamingTV</th>\n",
       "      <th>StreamingMovies</th>\n",
       "      <th>Contract</th>\n",
       "      <th>PaperlessBilling</th>\n",
       "      <th>PaymentMethod</th>\n",
       "      <th>MonthlyCharges</th>\n",
       "      <th>TotalCharges</th>\n",
       "      <th>Churn</th>\n",
       "    </tr>\n",
       "  </thead>\n",
       "  <tbody>\n",
       "    <tr>\n",
       "      <th>0</th>\n",
       "      <td>7590-VHVEG</td>\n",
       "      <td>Female</td>\n",
       "      <td>0</td>\n",
       "      <td>Yes</td>\n",
       "      <td>No</td>\n",
       "      <td>1</td>\n",
       "      <td>No</td>\n",
       "      <td>No phone service</td>\n",
       "      <td>DSL</td>\n",
       "      <td>No</td>\n",
       "      <td>...</td>\n",
       "      <td>No</td>\n",
       "      <td>No</td>\n",
       "      <td>No</td>\n",
       "      <td>No</td>\n",
       "      <td>Month-to-month</td>\n",
       "      <td>Yes</td>\n",
       "      <td>Electronic check</td>\n",
       "      <td>29.85</td>\n",
       "      <td>29.85</td>\n",
       "      <td>No</td>\n",
       "    </tr>\n",
       "    <tr>\n",
       "      <th>1</th>\n",
       "      <td>5575-GNVDE</td>\n",
       "      <td>Male</td>\n",
       "      <td>0</td>\n",
       "      <td>No</td>\n",
       "      <td>No</td>\n",
       "      <td>34</td>\n",
       "      <td>Yes</td>\n",
       "      <td>No</td>\n",
       "      <td>DSL</td>\n",
       "      <td>Yes</td>\n",
       "      <td>...</td>\n",
       "      <td>Yes</td>\n",
       "      <td>No</td>\n",
       "      <td>No</td>\n",
       "      <td>No</td>\n",
       "      <td>One year</td>\n",
       "      <td>No</td>\n",
       "      <td>Mailed check</td>\n",
       "      <td>56.95</td>\n",
       "      <td>1889.5</td>\n",
       "      <td>No</td>\n",
       "    </tr>\n",
       "    <tr>\n",
       "      <th>2</th>\n",
       "      <td>3668-QPYBK</td>\n",
       "      <td>Male</td>\n",
       "      <td>0</td>\n",
       "      <td>No</td>\n",
       "      <td>No</td>\n",
       "      <td>2</td>\n",
       "      <td>Yes</td>\n",
       "      <td>No</td>\n",
       "      <td>DSL</td>\n",
       "      <td>Yes</td>\n",
       "      <td>...</td>\n",
       "      <td>No</td>\n",
       "      <td>No</td>\n",
       "      <td>No</td>\n",
       "      <td>No</td>\n",
       "      <td>Month-to-month</td>\n",
       "      <td>Yes</td>\n",
       "      <td>Mailed check</td>\n",
       "      <td>53.85</td>\n",
       "      <td>108.15</td>\n",
       "      <td>Yes</td>\n",
       "    </tr>\n",
       "    <tr>\n",
       "      <th>3</th>\n",
       "      <td>7795-CFOCW</td>\n",
       "      <td>Male</td>\n",
       "      <td>0</td>\n",
       "      <td>No</td>\n",
       "      <td>No</td>\n",
       "      <td>45</td>\n",
       "      <td>No</td>\n",
       "      <td>No phone service</td>\n",
       "      <td>DSL</td>\n",
       "      <td>Yes</td>\n",
       "      <td>...</td>\n",
       "      <td>Yes</td>\n",
       "      <td>Yes</td>\n",
       "      <td>No</td>\n",
       "      <td>No</td>\n",
       "      <td>One year</td>\n",
       "      <td>No</td>\n",
       "      <td>Bank transfer (automatic)</td>\n",
       "      <td>42.30</td>\n",
       "      <td>1840.75</td>\n",
       "      <td>No</td>\n",
       "    </tr>\n",
       "    <tr>\n",
       "      <th>4</th>\n",
       "      <td>9237-HQITU</td>\n",
       "      <td>Female</td>\n",
       "      <td>0</td>\n",
       "      <td>No</td>\n",
       "      <td>No</td>\n",
       "      <td>2</td>\n",
       "      <td>Yes</td>\n",
       "      <td>No</td>\n",
       "      <td>Fiber optic</td>\n",
       "      <td>No</td>\n",
       "      <td>...</td>\n",
       "      <td>No</td>\n",
       "      <td>No</td>\n",
       "      <td>No</td>\n",
       "      <td>No</td>\n",
       "      <td>Month-to-month</td>\n",
       "      <td>Yes</td>\n",
       "      <td>Electronic check</td>\n",
       "      <td>70.70</td>\n",
       "      <td>151.65</td>\n",
       "      <td>Yes</td>\n",
       "    </tr>\n",
       "  </tbody>\n",
       "</table>\n",
       "<p>5 rows × 21 columns</p>\n",
       "</div>"
      ]
     },
     "execution_count": 13,
     "metadata": {},
     "output_type": "execute_result"
    }
   ],
   "execution_count": 13
  },
  {
   "metadata": {},
   "cell_type": "markdown",
   "source": [
    "<h3>Анализ размера датасета</h3>\n",
    "<p>\n",
    "Проверка количества строк и столбцов (размерности датасета) — важно для оценки объёма и структуры данных.\n",
    "</p>\n",
    "<hr>"
   ],
   "id": "1d792cbf94117b40"
  },
  {
   "metadata": {
    "ExecuteTime": {
     "end_time": "2025-07-17T10:41:05.978116Z",
     "start_time": "2025-07-17T10:41:05.975050Z"
    }
   },
   "cell_type": "code",
   "source": "customers_churn_df.shape",
   "id": "d272905e4dae70d7",
   "outputs": [
    {
     "data": {
      "text/plain": [
       "(7043, 21)"
      ]
     },
     "execution_count": 14,
     "metadata": {},
     "output_type": "execute_result"
    }
   ],
   "execution_count": 14
  },
  {
   "metadata": {},
   "cell_type": "markdown",
   "source": [
    "<h3>Информация о столбцах</h3>\n",
    "<p>\n",
    "Вывод структуры датафрейма: названия столбцов, типы данных, количество ненулевых значений, что важно для дальнейшей обработки и выявления пропусков.\n",
    "</p>\n",
    "<hr>"
   ],
   "id": "73ade65c5f45ea55"
  },
  {
   "metadata": {
    "ExecuteTime": {
     "end_time": "2025-07-17T10:41:06.043318Z",
     "start_time": "2025-07-17T10:41:06.037462Z"
    }
   },
   "cell_type": "code",
   "source": "customers_churn_df.info()",
   "id": "b5ab8949bcac8375",
   "outputs": [
    {
     "name": "stdout",
     "output_type": "stream",
     "text": [
      "<class 'pandas.core.frame.DataFrame'>\n",
      "RangeIndex: 7043 entries, 0 to 7042\n",
      "Data columns (total 21 columns):\n",
      " #   Column            Non-Null Count  Dtype  \n",
      "---  ------            --------------  -----  \n",
      " 0   customerID        7043 non-null   object \n",
      " 1   gender            7043 non-null   object \n",
      " 2   SeniorCitizen     7043 non-null   int64  \n",
      " 3   Partner           7043 non-null   object \n",
      " 4   Dependents        7043 non-null   object \n",
      " 5   tenure            7043 non-null   int64  \n",
      " 6   PhoneService      7043 non-null   object \n",
      " 7   MultipleLines     7043 non-null   object \n",
      " 8   InternetService   7043 non-null   object \n",
      " 9   OnlineSecurity    7043 non-null   object \n",
      " 10  OnlineBackup      7043 non-null   object \n",
      " 11  DeviceProtection  7043 non-null   object \n",
      " 12  TechSupport       7043 non-null   object \n",
      " 13  StreamingTV       7043 non-null   object \n",
      " 14  StreamingMovies   7043 non-null   object \n",
      " 15  Contract          7043 non-null   object \n",
      " 16  PaperlessBilling  7043 non-null   object \n",
      " 17  PaymentMethod     7043 non-null   object \n",
      " 18  MonthlyCharges    7043 non-null   float64\n",
      " 19  TotalCharges      7043 non-null   object \n",
      " 20  Churn             7043 non-null   object \n",
      "dtypes: float64(1), int64(2), object(18)\n",
      "memory usage: 1.1+ MB\n"
     ]
    }
   ],
   "execution_count": 15
  },
  {
   "metadata": {},
   "cell_type": "markdown",
   "source": [
    "<h3>Формирование целевой переменной (target) и удаление лишних признаков</h3>\n",
    "<p>\n",
    "Столбец <code>Churn</code> переводится из текстового формата в числовой (0 — не ушёл, 1 — ушёл), чтобы использовать его как целевую переменную. <br>\n",
    "Удаляются столбцы <code>customerID</code> и <code>Churn</code> из датафрейма признаков, так как они не нужны для обучения.\n",
    "</p>\n",
    "<hr>"
   ],
   "id": "ddf880f308703cbf"
  },
  {
   "metadata": {
    "ExecuteTime": {
     "end_time": "2025-07-17T10:41:06.137578Z",
     "start_time": "2025-07-17T10:41:06.134335Z"
    }
   },
   "cell_type": "code",
   "source": [
    "y = customers_churn_df[\"Churn\"].map({\"No\": 0, \"Yes\": 1})\n",
    "customers_churn_df = customers_churn_df.drop([\"customerID\", \"Churn\"], axis=1)"
   ],
   "id": "87d07fcafc79f9f3",
   "outputs": [],
   "execution_count": 16
  },
  {
   "metadata": {},
   "cell_type": "markdown",
   "source": [
    "<h3>Определение признаков для one-hot encoding</h3>\n",
    "<p>\n",
    "Создаётся список категориальных признаков, которые подлежат кодированию, и исключаются числовые признаки. <br>\n",
    "Проводится one-hot encoding по выбранным столбцам с помощью <code>pd.get_dummies</code> — каждая уникальная категория превращается в отдельную бинарную колонку.\n",
    "</p>\n",
    "<hr>"
   ],
   "id": "a5578031d7cfe9c1"
  },
  {
   "metadata": {
    "ExecuteTime": {
     "end_time": "2025-07-17T10:41:06.159576Z",
     "start_time": "2025-07-17T10:41:06.149701Z"
    }
   },
   "cell_type": "code",
   "source": [
    "exclude = [\"SeniorCitizen\", \"tenure\", \"MonthlyCharges\", \"TotalCharges\"]\n",
    "included = [col for col in customers_churn_df.columns if col not in exclude]\n",
    "customers_churn_df = pd.get_dummies(customers_churn_df, columns=included)"
   ],
   "id": "488f000fc5f25913",
   "outputs": [],
   "execution_count": 17
  },
  {
   "metadata": {},
   "cell_type": "markdown",
   "source": [
    "<h3>Проверка размеров после one-hot encoding</h3>\n",
    "<p>\n",
    "Анализируется размер датафрейма после кодирования категориальных переменных: обычно число столбцов существенно возрастает.\n",
    "</p>\n",
    "<hr>"
   ],
   "id": "dd40aa8e577ee29c"
  },
  {
   "metadata": {
    "ExecuteTime": {
     "end_time": "2025-07-17T10:41:06.170079Z",
     "start_time": "2025-07-17T10:41:06.167187Z"
    }
   },
   "cell_type": "code",
   "source": "customers_churn_df.shape",
   "id": "7f700fd63f7ac49c",
   "outputs": [
    {
     "data": {
      "text/plain": [
       "(7043, 45)"
      ]
     },
     "execution_count": 18,
     "metadata": {},
     "output_type": "execute_result"
    }
   ],
   "execution_count": 18
  },
  {
   "metadata": {},
   "cell_type": "markdown",
   "source": [
    "<h3>Просмотр обработанного датафрейма</h3>\n",
    "<p>\n",
    "Отображается одна строка датафрейма после всех преобразований — удобно для контроля итогового вида данных.\n",
    "</p>\n",
    "<hr>"
   ],
   "id": "5d6aa532ba0e144"
  },
  {
   "metadata": {
    "ExecuteTime": {
     "end_time": "2025-07-17T10:41:06.194040Z",
     "start_time": "2025-07-17T10:41:06.187852Z"
    }
   },
   "cell_type": "code",
   "source": "customers_churn_df.head(1)",
   "id": "2dd5e8f8439ed8dd",
   "outputs": [
    {
     "data": {
      "text/plain": [
       "   SeniorCitizen  tenure  MonthlyCharges TotalCharges  gender_Female  \\\n",
       "0              0       1           29.85        29.85           True   \n",
       "\n",
       "   gender_Male  Partner_No  Partner_Yes  Dependents_No  Dependents_Yes  ...  \\\n",
       "0        False       False         True           True           False  ...   \n",
       "\n",
       "   StreamingMovies_Yes  Contract_Month-to-month  Contract_One year  \\\n",
       "0                False                     True              False   \n",
       "\n",
       "   Contract_Two year  PaperlessBilling_No  PaperlessBilling_Yes  \\\n",
       "0              False                False                  True   \n",
       "\n",
       "   PaymentMethod_Bank transfer (automatic)  \\\n",
       "0                                    False   \n",
       "\n",
       "   PaymentMethod_Credit card (automatic)  PaymentMethod_Electronic check  \\\n",
       "0                                  False                            True   \n",
       "\n",
       "   PaymentMethod_Mailed check  \n",
       "0                       False  \n",
       "\n",
       "[1 rows x 45 columns]"
      ],
      "text/html": [
       "<div>\n",
       "<style scoped>\n",
       "    .dataframe tbody tr th:only-of-type {\n",
       "        vertical-align: middle;\n",
       "    }\n",
       "\n",
       "    .dataframe tbody tr th {\n",
       "        vertical-align: top;\n",
       "    }\n",
       "\n",
       "    .dataframe thead th {\n",
       "        text-align: right;\n",
       "    }\n",
       "</style>\n",
       "<table border=\"1\" class=\"dataframe\">\n",
       "  <thead>\n",
       "    <tr style=\"text-align: right;\">\n",
       "      <th></th>\n",
       "      <th>SeniorCitizen</th>\n",
       "      <th>tenure</th>\n",
       "      <th>MonthlyCharges</th>\n",
       "      <th>TotalCharges</th>\n",
       "      <th>gender_Female</th>\n",
       "      <th>gender_Male</th>\n",
       "      <th>Partner_No</th>\n",
       "      <th>Partner_Yes</th>\n",
       "      <th>Dependents_No</th>\n",
       "      <th>Dependents_Yes</th>\n",
       "      <th>...</th>\n",
       "      <th>StreamingMovies_Yes</th>\n",
       "      <th>Contract_Month-to-month</th>\n",
       "      <th>Contract_One year</th>\n",
       "      <th>Contract_Two year</th>\n",
       "      <th>PaperlessBilling_No</th>\n",
       "      <th>PaperlessBilling_Yes</th>\n",
       "      <th>PaymentMethod_Bank transfer (automatic)</th>\n",
       "      <th>PaymentMethod_Credit card (automatic)</th>\n",
       "      <th>PaymentMethod_Electronic check</th>\n",
       "      <th>PaymentMethod_Mailed check</th>\n",
       "    </tr>\n",
       "  </thead>\n",
       "  <tbody>\n",
       "    <tr>\n",
       "      <th>0</th>\n",
       "      <td>0</td>\n",
       "      <td>1</td>\n",
       "      <td>29.85</td>\n",
       "      <td>29.85</td>\n",
       "      <td>True</td>\n",
       "      <td>False</td>\n",
       "      <td>False</td>\n",
       "      <td>True</td>\n",
       "      <td>True</td>\n",
       "      <td>False</td>\n",
       "      <td>...</td>\n",
       "      <td>False</td>\n",
       "      <td>True</td>\n",
       "      <td>False</td>\n",
       "      <td>False</td>\n",
       "      <td>False</td>\n",
       "      <td>True</td>\n",
       "      <td>False</td>\n",
       "      <td>False</td>\n",
       "      <td>True</td>\n",
       "      <td>False</td>\n",
       "    </tr>\n",
       "  </tbody>\n",
       "</table>\n",
       "<p>1 rows × 45 columns</p>\n",
       "</div>"
      ]
     },
     "execution_count": 19,
     "metadata": {},
     "output_type": "execute_result"
    }
   ],
   "execution_count": 19
  },
  {
   "metadata": {},
   "cell_type": "markdown",
   "source": [
    "<h3>Обработка числовых признаков и пропусков</h3>\n",
    "<p>\n",
    "Числовые признаки <code>TotalCharges</code> и <code>MonthlyCharges</code> преобразуются к типу <code>float</code>. <br>\n",
    "Пропущенные значения <code>TotalCharges</code> заполняются средним по колонке. <br>\n",
    "Затем оба признака масштабируются в диапазон [0,1] с помощью <code>MinMaxScaler</code>.\n",
    "</p>\n",
    "<hr>"
   ],
   "id": "f0e3efc25955b661"
  },
  {
   "metadata": {
    "ExecuteTime": {
     "end_time": "2025-07-17T10:41:06.239321Z",
     "start_time": "2025-07-17T10:41:06.230373Z"
    }
   },
   "cell_type": "code",
   "source": [
    "customers_churn_df['TotalCharges'] = pd.to_numeric(customers_churn_df['TotalCharges'], errors='coerce')\n",
    "customers_churn_df['MonthlyCharges'] = pd.to_numeric(customers_churn_df['MonthlyCharges'], errors='coerce')\n",
    "num_columns = [\"MonthlyCharges\", \"TotalCharges\"]\n",
    "print(\"Before:\")\n",
    "print(customers_churn_df[num_columns].isna().sum())\n",
    "print(\"-\" * 100)\n",
    "customers_churn_df[\"TotalCharges\"] = customers_churn_df[\"TotalCharges\"].fillna(customers_churn_df[\"TotalCharges\"].mean())\n",
    "print(\"After:\")\n",
    "print(customers_churn_df[num_columns].isna().sum())\n",
    "\n",
    "\n",
    "scaler = MinMaxScaler()\n",
    "customers_churn_df[num_columns] = scaler.fit_transform(customers_churn_df[num_columns])\n"
   ],
   "id": "c6491ba6a3e34ec7",
   "outputs": [
    {
     "name": "stdout",
     "output_type": "stream",
     "text": [
      "Before:\n",
      "MonthlyCharges     0\n",
      "TotalCharges      11\n",
      "dtype: int64\n",
      "----------------------------------------------------------------------------------------------------\n",
      "After:\n",
      "MonthlyCharges    0\n",
      "TotalCharges      0\n",
      "dtype: int64\n"
     ]
    }
   ],
   "execution_count": 20
  },
  {
   "metadata": {},
   "cell_type": "markdown",
   "source": [
    "<h3>Финальный просмотр признаков</h3>\n",
    "<p>\n",
    "Повторная проверка первых строк и признаков после всех обработок — последний контроль перед разделением на выборки и построением моделей.\n",
    "</p>\n",
    "<hr>"
   ],
   "id": "946fd2c631919bd9"
  },
  {
   "metadata": {
    "ExecuteTime": {
     "end_time": "2025-07-17T10:41:06.277637Z",
     "start_time": "2025-07-17T10:41:06.271393Z"
    }
   },
   "cell_type": "code",
   "source": "customers_churn_df.head(1)",
   "id": "df20a541cb697bcb",
   "outputs": [
    {
     "data": {
      "text/plain": [
       "   SeniorCitizen  tenure  MonthlyCharges  TotalCharges  gender_Female  \\\n",
       "0              0       1        0.115423      0.001275           True   \n",
       "\n",
       "   gender_Male  Partner_No  Partner_Yes  Dependents_No  Dependents_Yes  ...  \\\n",
       "0        False       False         True           True           False  ...   \n",
       "\n",
       "   StreamingMovies_Yes  Contract_Month-to-month  Contract_One year  \\\n",
       "0                False                     True              False   \n",
       "\n",
       "   Contract_Two year  PaperlessBilling_No  PaperlessBilling_Yes  \\\n",
       "0              False                False                  True   \n",
       "\n",
       "   PaymentMethod_Bank transfer (automatic)  \\\n",
       "0                                    False   \n",
       "\n",
       "   PaymentMethod_Credit card (automatic)  PaymentMethod_Electronic check  \\\n",
       "0                                  False                            True   \n",
       "\n",
       "   PaymentMethod_Mailed check  \n",
       "0                       False  \n",
       "\n",
       "[1 rows x 45 columns]"
      ],
      "text/html": [
       "<div>\n",
       "<style scoped>\n",
       "    .dataframe tbody tr th:only-of-type {\n",
       "        vertical-align: middle;\n",
       "    }\n",
       "\n",
       "    .dataframe tbody tr th {\n",
       "        vertical-align: top;\n",
       "    }\n",
       "\n",
       "    .dataframe thead th {\n",
       "        text-align: right;\n",
       "    }\n",
       "</style>\n",
       "<table border=\"1\" class=\"dataframe\">\n",
       "  <thead>\n",
       "    <tr style=\"text-align: right;\">\n",
       "      <th></th>\n",
       "      <th>SeniorCitizen</th>\n",
       "      <th>tenure</th>\n",
       "      <th>MonthlyCharges</th>\n",
       "      <th>TotalCharges</th>\n",
       "      <th>gender_Female</th>\n",
       "      <th>gender_Male</th>\n",
       "      <th>Partner_No</th>\n",
       "      <th>Partner_Yes</th>\n",
       "      <th>Dependents_No</th>\n",
       "      <th>Dependents_Yes</th>\n",
       "      <th>...</th>\n",
       "      <th>StreamingMovies_Yes</th>\n",
       "      <th>Contract_Month-to-month</th>\n",
       "      <th>Contract_One year</th>\n",
       "      <th>Contract_Two year</th>\n",
       "      <th>PaperlessBilling_No</th>\n",
       "      <th>PaperlessBilling_Yes</th>\n",
       "      <th>PaymentMethod_Bank transfer (automatic)</th>\n",
       "      <th>PaymentMethod_Credit card (automatic)</th>\n",
       "      <th>PaymentMethod_Electronic check</th>\n",
       "      <th>PaymentMethod_Mailed check</th>\n",
       "    </tr>\n",
       "  </thead>\n",
       "  <tbody>\n",
       "    <tr>\n",
       "      <th>0</th>\n",
       "      <td>0</td>\n",
       "      <td>1</td>\n",
       "      <td>0.115423</td>\n",
       "      <td>0.001275</td>\n",
       "      <td>True</td>\n",
       "      <td>False</td>\n",
       "      <td>False</td>\n",
       "      <td>True</td>\n",
       "      <td>True</td>\n",
       "      <td>False</td>\n",
       "      <td>...</td>\n",
       "      <td>False</td>\n",
       "      <td>True</td>\n",
       "      <td>False</td>\n",
       "      <td>False</td>\n",
       "      <td>False</td>\n",
       "      <td>True</td>\n",
       "      <td>False</td>\n",
       "      <td>False</td>\n",
       "      <td>True</td>\n",
       "      <td>False</td>\n",
       "    </tr>\n",
       "  </tbody>\n",
       "</table>\n",
       "<p>1 rows × 45 columns</p>\n",
       "</div>"
      ]
     },
     "execution_count": 21,
     "metadata": {},
     "output_type": "execute_result"
    }
   ],
   "execution_count": 21
  },
  {
   "metadata": {},
   "cell_type": "markdown",
   "source": [
    "<h3>Формирование матрицы признаков</h3>\n",
    "<p>\n",
    "Определение X (матрицы признаков) для дальнейшего обучения моделей.\n",
    "</p>\n",
    "<hr>"
   ],
   "id": "3769af11ca4367d2"
  },
  {
   "metadata": {
    "ExecuteTime": {
     "end_time": "2025-07-17T10:41:06.478346Z",
     "start_time": "2025-07-17T10:41:06.475806Z"
    }
   },
   "cell_type": "code",
   "source": "X = customers_churn_df",
   "id": "dc4e0b697c36b7c9",
   "outputs": [],
   "execution_count": 22
  },
  {
   "metadata": {},
   "cell_type": "markdown",
   "source": [
    "<h3>Разделение на обучающую и тестовую выборки</h3>\n",
    "<p>\n",
    "Данные разбиваются на обучающую (train) и тестовую (test) выборки для честной оценки качества моделей.<br>\n",
    "<code>test_size=0.2</code> означает, что 20% данных идут в тест, 80% — в обучение.\n",
    "</p>\n",
    "<hr>"
   ],
   "id": "272d0c076656a9e7"
  },
  {
   "metadata": {
    "ExecuteTime": {
     "end_time": "2025-07-17T10:41:06.519320Z",
     "start_time": "2025-07-17T10:41:06.515584Z"
    }
   },
   "cell_type": "code",
   "source": [
    "X_train, X_test, y_train, y_test = train_test_split(\n",
    "    X, y,\n",
    "    test_size=0.2,\n",
    "    random_state=42\n",
    ")"
   ],
   "id": "768d4dbdb9f66fca",
   "outputs": [],
   "execution_count": 23
  },
  {
   "metadata": {},
   "cell_type": "markdown",
   "source": [
    "<h3>Обучение и сравнение моделей</h3>\n",
    "<p>\n",
    "Последовательно обучаются и тестируются сразу несколько моделей:<br>\n",
    "— <b>Logistic Regression</b><br>\n",
    "— <b>Random Forest</b><br>\n",
    "— <b>XGBoost</b><br>\n",
    "— <b>CatBoost</b><br>\n",
    "Для каждой рассчитываются метрики качества и результаты собираются в общую таблицу для сравнения.\n",
    "</p>\n",
    "<hr>"
   ],
   "id": "9f311e79842be96c"
  },
  {
   "metadata": {
    "ExecuteTime": {
     "end_time": "2025-07-17T10:41:09.471628Z",
     "start_time": "2025-07-17T10:41:06.590784Z"
    }
   },
   "cell_type": "code",
   "source": [
    "models = {\n",
    "    'Logistic Regression': LogisticRegression(max_iter=1000, class_weight='balanced'),\n",
    "    'Random Forest': RandomForestClassifier(n_estimators=100, random_state=42, class_weight='balanced'),\n",
    "    'XGBoost': XGBClassifier(use_label_encoder=False, eval_metric='logloss', random_state=42),\n",
    "    'CatBoost': CatBoostClassifier(verbose=0, random_state=42)\n",
    "}\n",
    "\n",
    "results = []\n",
    "\n",
    "for name, model in models.items():\n",
    "    model.fit(X_train, y_train)\n",
    "    y_pred = model.predict(X_test)\n",
    "    y_proba = model.predict_proba(X_test)[:, 1]\n",
    "    results.append({\n",
    "        \"Model\": name,\n",
    "        \"Accuracy\": accuracy_score(y_test, y_pred),\n",
    "        \"Precision\": precision_score(y_test, y_pred),\n",
    "        \"Recall\": recall_score(y_test, y_pred),\n",
    "        \"F1-score\": f1_score(y_test, y_pred),\n",
    "        \"ROC-AUC\": roc_auc_score(y_test, y_proba)\n",
    "    })\n",
    "\n",
    "results_df = pd.DataFrame(results).set_index(\"Model\")\n",
    "print(results_df)"
   ],
   "id": "e2a6ab9f3e615105",
   "outputs": [
    {
     "name": "stderr",
     "output_type": "stream",
     "text": [
      "/Users/germangolod/JetbrainsProjects/PycharmProProjects/ML_Projects/.venv/lib/python3.11/site-packages/xgboost/training.py:183: UserWarning: [13:41:07] WARNING: /Users/runner/work/xgboost/xgboost/src/learner.cc:738: \n",
      "Parameters: { \"use_label_encoder\" } are not used.\n",
      "\n",
      "  bst.update(dtrain, iteration=i, fobj=obj)\n"
     ]
    },
    {
     "name": "stdout",
     "output_type": "stream",
     "text": [
      "                     Accuracy  Precision    Recall  F1-score   ROC-AUC\n",
      "Model                                                                 \n",
      "Logistic Regression  0.750177   0.517647  0.825737  0.636364  0.861968\n",
      "Random Forest        0.792761   0.650558  0.469169  0.545171  0.834991\n",
      "XGBoost              0.788502   0.620579  0.517426  0.564327  0.835457\n",
      "CatBoost             0.801278   0.656566  0.522788  0.582090  0.856632\n"
     ]
    }
   ],
   "execution_count": 24
  },
  {
   "metadata": {},
   "cell_type": "markdown",
   "source": [
    "<h3>Поиск оптимальных параметров для CatBoost (GridSearchCV)</h3>\n",
    "<p>\n",
    "С помощью <code>GridSearchCV</code> проводится автоматизированный перебор гиперпараметров для CatBoost, чтобы найти лучшие параметры по метрике <b>ROC-AUC</b>.<br>\n",
    "Это помогает улучшить итоговое качество модели.\n",
    "</p>\n",
    "<hr>"
   ],
   "id": "4d73f148f2fa2f5"
  },
  {
   "metadata": {
    "ExecuteTime": {
     "end_time": "2025-07-17T10:41:48.473259Z",
     "start_time": "2025-07-17T10:41:09.507184Z"
    }
   },
   "cell_type": "code",
   "source": [
    "params = {\n",
    "    \"iterations\": [100, 200],\n",
    "    \"depth\": [4, 6, 8],\n",
    "    \"learning_rate\": [0.01, 0.05, 0.1],\n",
    "    \"l2_leaf_reg\": [1, 3, 5],\n",
    "}\n",
    "cat = CatBoostClassifier(verbose=0, random_state=42)\n",
    "\n",
    "grid = GridSearchCV(cat, params, scoring=\"roc_auc\", cv=3)\n",
    "grid.fit(X_train, y_train)\n",
    "\n",
    "print(\"Best params:\", grid.best_params_)\n",
    "print(\"Best ROC-AUC:\", grid.best_score_)"
   ],
   "id": "e4f1201df55ba2b8",
   "outputs": [
    {
     "name": "stdout",
     "output_type": "stream",
     "text": [
      "Best params: {'depth': 4, 'iterations': 100, 'l2_leaf_reg': 5, 'learning_rate': 0.05}\n",
      "Best ROC-AUC: 0.8464599069445539\n"
     ]
    }
   ],
   "execution_count": 25
  },
  {
   "metadata": {},
   "cell_type": "markdown",
   "source": [
    "<h3>Обучение CatBoost с лучшими параметрами</h3>\n",
    "<p>\n",
    "Модель CatBoost обучается с параметрами, найденными на предыдущем шаге, что позволяет получить максимальное качество.\n",
    "</p>\n",
    "<hr>"
   ],
   "id": "5ae7a8b9efa67595"
  },
  {
   "metadata": {
    "ExecuteTime": {
     "end_time": "2025-07-17T10:41:48.501684Z",
     "start_time": "2025-07-17T10:41:48.499729Z"
    }
   },
   "cell_type": "code",
   "source": [
    "model = best_model = CatBoostClassifier(\n",
    "    depth=4,\n",
    "    iterations=100,\n",
    "    l2_leaf_reg=5,\n",
    "    learning_rate=0.05,\n",
    "    verbose=0,\n",
    "    random_state=42\n",
    ")"
   ],
   "id": "98a57fdef31a7cf2",
   "outputs": [],
   "execution_count": 26
  },
  {
   "metadata": {
    "ExecuteTime": {
     "end_time": "2025-07-17T10:41:48.620315Z",
     "start_time": "2025-07-17T10:41:48.523663Z"
    }
   },
   "cell_type": "code",
   "source": "model.fit(X_train, y_train)",
   "id": "24903e1b6ce17f9",
   "outputs": [
    {
     "data": {
      "text/plain": [
       "<catboost.core.CatBoostClassifier at 0x13e590d90>"
      ]
     },
     "execution_count": 27,
     "metadata": {},
     "output_type": "execute_result"
    }
   ],
   "execution_count": 27
  },
  {
   "metadata": {},
   "cell_type": "markdown",
   "source": [
    "<h3>Оценка финальной модели и вывод отчёта</h3>\n",
    "<p>\n",
    "Для финальной модели CatBoost рассчитываются все основные метрики (accuracy, precision, recall, F1-score, ROC-AUC) и строится confusion matrix.<br>\n",
    "Также выводится полный classification report для анализа ошибок и сильных сторон модели.\n",
    "</p>\n",
    "<hr>"
   ],
   "id": "56297eac43d69df9"
  },
  {
   "metadata": {
    "ExecuteTime": {
     "end_time": "2025-07-17T10:41:48.654864Z",
     "start_time": "2025-07-17T10:41:48.651469Z"
    }
   },
   "cell_type": "code",
   "source": [
    "y_pred = model.predict(X_test)\n",
    "y_proba = model.predict_proba(X_test)[:, 1]"
   ],
   "id": "ff57547d760c823a",
   "outputs": [],
   "execution_count": 28
  },
  {
   "metadata": {
    "ExecuteTime": {
     "end_time": "2025-07-17T10:41:48.690330Z",
     "start_time": "2025-07-17T10:41:48.681567Z"
    }
   },
   "cell_type": "code",
   "source": [
    "print(\"Accuracy:\", f\"{accuracy_score(y_test, y_pred):.4f}\")\n",
    "print(\"Precision:\", f\"{precision_score(y_test, y_pred):.4f}\")\n",
    "print(\"Recall:\", f\"{recall_score(y_test, y_pred):.4f}\")\n",
    "print(\"F1-score:\", f\"{f1_score(y_test, y_pred):.4f}\")\n",
    "print(\"ROC-AUC:\", f\"{roc_auc_score(y_test, y_proba):.4f}\")\n",
    "print(\"Confusion Matrix:\\n\", confusion_matrix(y_test, y_pred))\n",
    "print(\"\\nDetailed Report:\\n\", classification_report(y_test, y_pred, digits=4))"
   ],
   "id": "59738e4a52060693",
   "outputs": [
    {
     "name": "stdout",
     "output_type": "stream",
     "text": [
      "Accuracy: 0.8098\n",
      "Precision: 0.6804\n",
      "Recall: 0.5308\n",
      "F1-score: 0.5964\n",
      "ROC-AUC: 0.8644\n",
      "Confusion Matrix:\n",
      " [[943  93]\n",
      " [175 198]]\n",
      "\n",
      "Detailed Report:\n",
      "               precision    recall  f1-score   support\n",
      "\n",
      "           0     0.8435    0.9102    0.8756      1036\n",
      "           1     0.6804    0.5308    0.5964       373\n",
      "\n",
      "    accuracy                         0.8098      1409\n",
      "   macro avg     0.7619    0.7205    0.7360      1409\n",
      "weighted avg     0.8003    0.8098    0.8017      1409\n",
      "\n"
     ]
    }
   ],
   "execution_count": 29
  },
  {
   "metadata": {
    "ExecuteTime": {
     "end_time": "2025-07-17T10:41:48.716313Z",
     "start_time": "2025-07-17T10:41:48.714384Z"
    }
   },
   "cell_type": "code",
   "source": "",
   "id": "89d2eee43dc0a4a0",
   "outputs": [],
   "execution_count": null
  },
  {
   "metadata": {
    "ExecuteTime": {
     "end_time": "2025-07-17T10:41:48.742410Z",
     "start_time": "2025-07-17T10:41:48.741061Z"
    }
   },
   "cell_type": "code",
   "source": "",
   "id": "45c7fbae6f74c42f",
   "outputs": [],
   "execution_count": null
  }
 ],
 "metadata": {
  "kernelspec": {
   "display_name": "Python 3",
   "language": "python",
   "name": "python3"
  },
  "language_info": {
   "codemirror_mode": {
    "name": "ipython",
    "version": 2
   },
   "file_extension": ".py",
   "mimetype": "text/x-python",
   "name": "python",
   "nbconvert_exporter": "python",
   "pygments_lexer": "ipython2",
   "version": "2.7.6"
  }
 },
 "nbformat": 4,
 "nbformat_minor": 5
}
